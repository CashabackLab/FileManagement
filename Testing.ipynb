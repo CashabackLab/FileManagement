{
 "cells": [
  {
   "cell_type": "code",
   "execution_count": 6,
   "id": "4857431d-37b3-4b63-ac93-b975aa6f2146",
   "metadata": {},
   "outputs": [],
   "source": [
    "import numpy as np\n",
    "import file_management as fm"
   ]
  },
  {
   "cell_type": "code",
   "execution_count": 8,
   "id": "35d08786-8ba3-41ae-b042-0e1c665120f0",
   "metadata": {},
   "outputs": [],
   "source": [
    "import os\n",
    "import os.path\n",
    "def get_most_recent_file(path, key_string = \"\", dateformat = \"MM_DD_YYYY\"):\n",
    "    \"\"\"\n",
    "    key_string can be a single string or a list of strings\n",
    "    dateformat : {\"MM_DD_YYYY\", \"DD_MM_YYYY\"}\n",
    "    assumes file is a .pkl\"\"\"\n",
    "    if dateformat not in [\"MM_DD_YYYY\", \"DD_MM_YYYY\"]:\n",
    "        raise ValueError(\"Improper date format. Set dateformat to either \\\"MM_DD_YYYY\\\" or \\\"DD_MM_YYYY\\\"\")\n",
    "    for (dirpath, dirnames, filenames) in os.walk(path):\n",
    "        most_recent_file = \"\"\n",
    "        most_recent_date = {\"MM\": 0, \"YYYY\": 0, \"DD\": 0}\n",
    "        file_components = {\"prefix\": \"\", \"date\": \"\", \"extension\" : \"\"}\n",
    "        key_string_flag = 0\n",
    "        date_flag = 0\n",
    "        file_found_flag = 0\n",
    "        #for every file\n",
    "        for i, filename in enumerate(filenames):\n",
    "            last_date = most_recent_date.copy()\n",
    "            #check if key_string is in the filename and that the filename ends with the year\n",
    "            if isinstance(key_string, list):\n",
    "                for key in key_string:\n",
    "                    if key not in filename:\n",
    "                        key_string_flag = 0\n",
    "                        break\n",
    "                    key_string_flag = 1\n",
    "            else:\n",
    "                if key_string in filename:\n",
    "                    key_string_flag = 1\n",
    "                else:\n",
    "                    key_string_flag = 0\n",
    "            if key_string_flag:\n",
    "                prefix, extension = os.path.splitext(filename)\n",
    "                file_components[\"prefix\"] = prefix[:-10]\n",
    "                file_components[\"extension\"] = extension\n",
    "                file_components[\"date\"] = prefix[-10:]\n",
    "                if file_components[\"date\"][-4:].isnumeric():\n",
    "                    date_flag = 1\n",
    "                    file_found_flag = 1\n",
    "                    #temp dat/time variables\n",
    "                    year  = file_components[\"date\"][-4:]\n",
    "                    if dateformat == \"MM_DD_YYYY\":\n",
    "                        day     = file_components[\"date\"][3:5]\n",
    "                        month   = file_components[\"date\"][0:2]\n",
    "                    else:\n",
    "                        month = file_components[\"date\"][3:5]\n",
    "                        day   = file_components[\"date\"][0:2]\n",
    "                        \n",
    "                    #Check if this file is more recent than the previous file\n",
    "                    if int(year) >= int(most_recent_date[\"YYYY\"]):\n",
    "                        if int(year) > int(most_recent_date[\"YYYY\"]):\n",
    "                            most_recent_date[\"MM\"] = 0 # resetting our month to 0 if year is greater\n",
    "                        most_recent_date[\"YYYY\"] = year\n",
    "                        if int(month) >= int(most_recent_date[\"MM\"]):\n",
    "                            if int(month) > int(most_recent_date[\"MM\"]):\n",
    "                                most_recent_date[\"DD\"] = 0 # reset day to 0 if we find more recent month\n",
    "                            most_recent_date[\"MM\"] = month\n",
    "                            if int(day) >= int(most_recent_date[\"DD\"]):\n",
    "                                most_recent_date[\"DD\"] = day\n",
    "                                \n",
    "                    if last_date != most_recent_date:\n",
    "                        most_recent_file = \"\".join(file_components.values())\n",
    "        if not key_string_flag and not file_found_flag: raise FileNotFoundError(f\"No file with key_string \\\"{key_string}\\\" exists.\")\n",
    "        if not date_flag and not file_found_flag: raise FileNotFoundError(\"No file with properly formatted date found.\")\n",
    "        return most_recent_file"
   ]
  },
  {
   "cell_type": "code",
   "execution_count": null,
   "id": "c973eb93-7110-4387-9655-38a2bcbc4c2b",
   "metadata": {},
   "outputs": [],
   "source": []
  }
 ],
 "metadata": {
  "kernelspec": {
   "display_name": "FM Env",
   "language": "python",
   "name": "fm_develop"
  },
  "language_info": {
   "codemirror_mode": {
    "name": "ipython",
    "version": 3
   },
   "file_extension": ".py",
   "mimetype": "text/x-python",
   "name": "python",
   "nbconvert_exporter": "python",
   "pygments_lexer": "ipython3",
   "version": "3.10.18"
  }
 },
 "nbformat": 4,
 "nbformat_minor": 5
}
